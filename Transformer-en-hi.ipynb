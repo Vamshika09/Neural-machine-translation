{
 "cells": [
  {
   "cell_type": "markdown",
   "id": "e545b5da",
   "metadata": {},
   "source": [
    "### This notebook loads and evaluates a pre-trained Transformers model for English to Hindi records"
   ]
  },
  {
   "cell_type": "code",
   "execution_count": 1,
   "id": "b68be5db-970c-47f8-bc0e-a34ebf5a26fd",
   "metadata": {},
   "outputs": [
    {
     "name": "stderr",
     "output_type": "stream",
     "text": [
      "C:\\Users\\abhie\\AppData\\Local\\Packages\\PythonSoftwareFoundation.Python.3.11_qbz5n2kfra8p0\\LocalCache\\local-packages\\Python311\\site-packages\\tqdm\\auto.py:21: TqdmWarning: IProgress not found. Please update jupyter and ipywidgets. See https://ipywidgets.readthedocs.io/en/stable/user_install.html\n",
      "  from .autonotebook import tqdm as notebook_tqdm\n"
     ]
    }
   ],
   "source": [
    "from nltk.translate.bleu_score import corpus_bleu, SmoothingFunction\n",
    "from datasets import load_dataset\n",
    "from transformers import AutoTokenizer, AutoModelForSeq2SeqLM\n",
    "\n",
    "# Import the Util file\n",
    "import util as util"
   ]
  },
  {
   "cell_type": "code",
   "execution_count": 2,
   "id": "f4a17533-5b61-48ac-a605-8b6c1c96b199",
   "metadata": {},
   "outputs": [
    {
     "name": "stderr",
     "output_type": "stream",
     "text": [
      "C:\\Users\\abhie\\AppData\\Local\\Packages\\PythonSoftwareFoundation.Python.3.11_qbz5n2kfra8p0\\LocalCache\\local-packages\\Python311\\site-packages\\huggingface_hub\\repocard.py:105: UserWarning: Repo card metadata block was not found. Setting CardData to empty.\n",
      "  warnings.warn(\"Repo card metadata block was not found. Setting CardData to empty.\")\n"
     ]
    }
   ],
   "source": [
    "raw_datasets = load_dataset(\"cfilt/iitb-english-hindi\")\n",
    "data = raw_datasets[\"train\"][\"translation\"]\n",
    "    \n",
    "eng_sen = []\n",
    "hin_sen = []\n",
    "\n",
    "for item in data:\n",
    "  eng_sen.append(item['en'])\n",
    "  hin_sen.append(item['hi'])\n",
    "\n",
    "# Remove duplicate sentences\n",
    "eng_sen, hin_sen = util.unique_sentences(eng_sen, hin_sen)"
   ]
  },
  {
   "cell_type": "code",
   "execution_count": 3,
   "id": "898eeaed-018e-4640-855a-954f49610b10",
   "metadata": {},
   "outputs": [],
   "source": [
    "tokenizer = AutoTokenizer.from_pretrained(\"Helsinki-NLP/opus-mt-en-hi\")\n",
    "model = AutoModelForSeq2SeqLM.from_pretrained(\"Helsinki-NLP/opus-mt-en-hi\")\n",
    "\n",
    "def translator(text):\n",
    "  # function to translate english text to hindi\n",
    "  input_ids = tokenizer.encode(text, return_tensors=\"pt\", padding=True)\n",
    "  outputs = model.generate(input_ids)\n",
    "  decoded_text = tokenizer.decode(outputs[0], skip_special_tokens=True)\n",
    "  \n",
    "  return decoded_text"
   ]
  },
  {
   "cell_type": "code",
   "execution_count": 6,
   "id": "123a2a5f",
   "metadata": {},
   "outputs": [
    {
     "name": "stdout",
     "output_type": "stream",
     "text": [
      "transl: अपने अनुप्रयोग को पहुंचनीयता व्यायाम का लाभ दें\n",
      "actual: अपने अनुप्रयोग को पहुंचनीयता व्यायाम का लाभ दें \n",
      "\n",
      "transl: एक्सेर्साइसर पहुंचनीयता अन्वेषक\n",
      "actual: एक्सेर्साइसर पहुंचनीयता अन्वेषक \n",
      "\n",
      "transl: निचले पटल के लिए डिफोल्ट प्लग-इन खाका\n",
      "actual: निचले पटल के लिए डिफोल्ट प्लग-इन खाका \n",
      "\n",
      "transl: ऊपरी पटल के लिए डिफोल्ट प्लग-इन खाका\n",
      "actual: ऊपरी पटल के लिए डिफोल्ट प्लग-इन खाका \n",
      "\n",
      "transl: उन प्लग-इनों की सूची जिन्हें डिफोल्ट रूप से निष्क्रिय किया गया है\n",
      "actual: उन प्लग-इनों की सूची जिन्हें डिफोल्ट रूप से निष्क्रिय किया गया है \n",
      "\n",
      "transl: अवधि को हाइलाइट रकें\n",
      "actual: अवधि को हाइलाइट रकें \n",
      "\n",
      "transl: पहुंचनीय आसंधि नोड को चुनते समय हाइलाइट बक्से की अवधि\n",
      "actual: पहुंचनीय आसंधि (नोड) को चुनते समय हाइलाइट बक्से की अवधि \n",
      "\n",
      "transl: सीमांत (बोर्डर) के रंग को हाइलाइट करें\n",
      "actual: सीमांत (बोर्डर) के रंग को हाइलाइट करें \n",
      "\n",
      "transl: हाइलाइट किए गए सीमांत का रंग और अपारदर्शिता।\n",
      "actual: हाइलाइट किए गए सीमांत का रंग और अपारदर्शिता।  \n",
      "\n",
      "transl: भराई के रंग को हाइलाइट करें\n",
      "actual: भराई के रंग को हाइलाइट करें \n",
      "\n",
      "transl: हाइलाइट किया गया भराई का रंग और पारदर्शिता।\n",
      "actual: हाइलाइट किया गया भराई का रंग और पारदर्शिता।  \n",
      "\n",
      "transl: एपीआई विचरक\n",
      "actual: एपीआई विचरक \n",
      "\n",
      "transl: इस समय जिसे प्राप्त किया गया हो, उसकी विभिन्न विधियों (मेथड) में विचरण करें\n",
      "actual: इस समय जिसे प्राप्त किया गया हो, उसकी विभिन्न विधियों (मेथड) में विचरण करें \n",
      "\n",
      "transl: निजी गुणों को छिपाएं\n",
      "actual: निजी गुणों को छिपाएं \n",
      "\n",
      "transl: विधि\n",
      "actual: विधि \n",
      "\n",
      "transl: गुणधर्म\n",
      "actual: गुणधर्म \n",
      "\n",
      "transl: मान\n",
      "actual: मान \n",
      "\n",
      "transl: आईपाइथन कन्सोल\n",
      "actual: आईपाइथन कन्सोल \n",
      "\n",
      "transl: इस समय चुने गए एक्सेसेबेल से काम लेने के लिए अंतर्क्रियात्मक कन्सोल\n",
      "actual: इस समय चुने गए एक्सेसेबेल से काम लेने के लिए अंतर्क्रियात्मक कन्सोल \n",
      "\n",
      "transl: घटना मानिटर\n",
      "actual: घटना मानिटर \n",
      "\n"
     ]
    }
   ],
   "source": [
    "# num of sentences to be translated\n",
    "num = 20\n",
    "\n",
    "input_text = eng_sen[:num]\n",
    "translated_text = []\n",
    "\n",
    "for i in range(len(input_text)):\n",
    "  line = translator(input_text[i])\n",
    "  translated_text.append(line)\n",
    "  \n",
    "  print('transl:', line)\n",
    "  print('actual:', hin_sen[i], '\\n')"
   ]
  },
  {
   "cell_type": "code",
   "execution_count": 10,
   "id": "c0bfbd7b-0271-4802-a4db-d25d15f5fc13",
   "metadata": {},
   "outputs": [
    {
     "data": {
      "text/plain": [
       "0.13276982988333147"
      ]
     },
     "execution_count": 10,
     "metadata": {},
     "output_type": "execute_result"
    }
   ],
   "source": [
    "smooth = SmoothingFunction()\n",
    "corpus_bleu(hin_sen[0:num], translated_text, smoothing_function=smooth.method7)"
   ]
  }
 ],
 "metadata": {
  "kernelspec": {
   "display_name": "Python 3",
   "language": "python",
   "name": "python3"
  },
  "language_info": {
   "codemirror_mode": {
    "name": "ipython",
    "version": 3
   },
   "file_extension": ".py",
   "mimetype": "text/x-python",
   "name": "python",
   "nbconvert_exporter": "python",
   "pygments_lexer": "ipython3",
   "version": "3.11.7"
  }
 },
 "nbformat": 4,
 "nbformat_minor": 5
}
